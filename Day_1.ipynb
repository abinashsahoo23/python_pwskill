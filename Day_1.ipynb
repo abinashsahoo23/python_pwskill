{
 "cells": [
  {
   "cell_type": "markdown",
   "id": "6107c205-784a-478a-9594-22f43ef24f04",
   "metadata": {},
   "source": [
    "### Sample code "
   ]
  },
  {
   "cell_type": "code",
   "execution_count": 1,
   "id": "a063f973-a20b-4fd5-a94a-4ecb4b1dbfbd",
   "metadata": {},
   "outputs": [
    {
     "name": "stdout",
     "output_type": "stream",
     "text": [
      "hello World\n"
     ]
    }
   ],
   "source": [
    "print(\"hello World\")"
   ]
  },
  {
   "cell_type": "code",
   "execution_count": 2,
   "id": "23edf1a9-bc6f-4f92-bcc0-2224e0f88292",
   "metadata": {},
   "outputs": [
    {
     "data": {
      "text/plain": [
       "int"
      ]
     },
     "execution_count": 2,
     "metadata": {},
     "output_type": "execute_result"
    }
   ],
   "source": [
    "a=12\n",
    "type(a)"
   ]
  },
  {
   "cell_type": "code",
   "execution_count": 3,
   "id": "099a0768-84c7-4135-a806-2b76659dcc00",
   "metadata": {},
   "outputs": [
    {
     "data": {
      "text/plain": [
       "complex"
      ]
     },
     "execution_count": 3,
     "metadata": {},
     "output_type": "execute_result"
    }
   ],
   "source": [
    "type(1+2j)"
   ]
  },
  {
   "cell_type": "code",
   "execution_count": 4,
   "id": "55e043a2-c817-4736-8e9a-ceb8cf28d6a9",
   "metadata": {},
   "outputs": [
    {
     "name": "stdout",
     "output_type": "stream",
     "text": [
      "<class 'int'>\n"
     ]
    }
   ],
   "source": [
    "print(type(12))"
   ]
  },
  {
   "cell_type": "code",
   "execution_count": 5,
   "id": "c481862c-b237-4c9c-91de-7c70f9cfe8ef",
   "metadata": {},
   "outputs": [
    {
     "data": {
      "text/plain": [
       "35"
      ]
     },
     "execution_count": 5,
     "metadata": {},
     "output_type": "execute_result"
    }
   ],
   "source": [
    "12+23"
   ]
  },
  {
   "cell_type": "code",
   "execution_count": 6,
   "id": "735a12e8-5ce9-432c-8459-bb44769472e2",
   "metadata": {},
   "outputs": [
    {
     "data": {
      "text/plain": [
       "'1111111111111111111111111111111111111111111111111111111111111111111111111111111111111111111111111111'"
      ]
     },
     "execution_count": 6,
     "metadata": {},
     "output_type": "execute_result"
    }
   ],
   "source": [
    "\"1\" * 100"
   ]
  },
  {
   "cell_type": "code",
   "execution_count": 7,
   "id": "3f78185f-67e4-4b9d-8da0-1c4f7b917fcf",
   "metadata": {},
   "outputs": [
    {
     "ename": "NameError",
     "evalue": "name 'Bool' is not defined",
     "output_type": "error",
     "traceback": [
      "\u001b[0;31m---------------------------------------------------------------------------\u001b[0m",
      "\u001b[0;31mNameError\u001b[0m                                 Traceback (most recent call last)",
      "Cell \u001b[0;32mIn[7], line 1\u001b[0m\n\u001b[0;32m----> 1\u001b[0m \u001b[43mBool\u001b[49m(\u001b[38;5;241m1\u001b[39m)\n",
      "\u001b[0;31mNameError\u001b[0m: name 'Bool' is not defined"
     ]
    }
   ],
   "source": [
    "Bool(1)"
   ]
  },
  {
   "cell_type": "code",
   "execution_count": 8,
   "id": "19794213-607a-458d-a8e1-e925a08949ff",
   "metadata": {},
   "outputs": [
    {
     "data": {
      "text/plain": [
       "False"
      ]
     },
     "execution_count": 8,
     "metadata": {},
     "output_type": "execute_result"
    }
   ],
   "source": [
    "bool(0)"
   ]
  },
  {
   "cell_type": "code",
   "execution_count": 9,
   "id": "dfdb0862-1d03-4156-b528-041210df385b",
   "metadata": {},
   "outputs": [
    {
     "data": {
      "text/plain": [
       "True"
      ]
     },
     "execution_count": 9,
     "metadata": {},
     "output_type": "execute_result"
    }
   ],
   "source": [
    "bool(1)"
   ]
  },
  {
   "cell_type": "code",
   "execution_count": 10,
   "id": "0f162e80-0aee-4622-ac63-7610a8adddd0",
   "metadata": {},
   "outputs": [
    {
     "data": {
      "text/plain": [
       "True"
      ]
     },
     "execution_count": 10,
     "metadata": {},
     "output_type": "execute_result"
    }
   ],
   "source": [
    "not bool(0)"
   ]
  },
  {
   "cell_type": "code",
   "execution_count": 11,
   "id": "1f6e4a55-82ba-4b46-a9b9-848c3bfa64b9",
   "metadata": {},
   "outputs": [
    {
     "data": {
      "text/plain": [
       "bool"
      ]
     },
     "execution_count": 11,
     "metadata": {},
     "output_type": "execute_result"
    }
   ],
   "source": [
    "type(bool(0))"
   ]
  },
  {
   "cell_type": "code",
   "execution_count": 1,
   "id": "27665296-32e5-421e-863a-a614fd1b2ade",
   "metadata": {},
   "outputs": [
    {
     "data": {
      "text/plain": [
       "'23'"
      ]
     },
     "execution_count": 1,
     "metadata": {},
     "output_type": "execute_result"
    }
   ],
   "source": [
    "str(23)"
   ]
  },
  {
   "cell_type": "code",
   "execution_count": 2,
   "id": "984e731d-311a-441f-8d86-1956cff10359",
   "metadata": {},
   "outputs": [
    {
     "data": {
      "text/plain": [
       "23"
      ]
     },
     "execution_count": 2,
     "metadata": {},
     "output_type": "execute_result"
    }
   ],
   "source": [
    "int('23')"
   ]
  },
  {
   "cell_type": "code",
   "execution_count": 3,
   "id": "cf1a17f9-9205-4f87-899e-a177eb54307d",
   "metadata": {},
   "outputs": [
    {
     "data": {
      "text/plain": [
       "bool"
      ]
     },
     "execution_count": 3,
     "metadata": {},
     "output_type": "execute_result"
    }
   ],
   "source": [
    "type (not True)"
   ]
  },
  {
   "cell_type": "code",
   "execution_count": 5,
   "id": "3acf6acb-e670-468c-87fb-9e941c0a79b7",
   "metadata": {},
   "outputs": [
    {
     "name": "stdout",
     "output_type": "stream",
     "text": [
      "<class 'bool'>\n"
     ]
    }
   ],
   "source": [
    "print (type (not True))"
   ]
  },
  {
   "cell_type": "code",
   "execution_count": 6,
   "id": "f4a89d3a-663c-47c6-ab0c-8a89e10589b8",
   "metadata": {},
   "outputs": [
    {
     "data": {
      "text/plain": [
       "float"
      ]
     },
     "execution_count": 6,
     "metadata": {},
     "output_type": "execute_result"
    }
   ],
   "source": [
    "a=1.00\n",
    "type(a)"
   ]
  },
  {
   "cell_type": "code",
   "execution_count": 7,
   "id": "24cd841a-ba13-4bf2-aed6-42355bd8ea7c",
   "metadata": {},
   "outputs": [
    {
     "data": {
      "text/plain": [
       "2"
      ]
     },
     "execution_count": 7,
     "metadata": {},
     "output_type": "execute_result"
    }
   ],
   "source": [
    "int(2.45)"
   ]
  },
  {
   "cell_type": "code",
   "execution_count": 8,
   "id": "93de01a9-34eb-4cca-96ac-3c85693832bf",
   "metadata": {},
   "outputs": [
    {
     "data": {
      "text/plain": [
       "2"
      ]
     },
     "execution_count": 8,
     "metadata": {},
     "output_type": "execute_result"
    }
   ],
   "source": [
    "int(2.99)"
   ]
  },
  {
   "cell_type": "code",
   "execution_count": 9,
   "id": "736462e1-cb48-4b94-bb25-30e7cb9d75dc",
   "metadata": {},
   "outputs": [
    {
     "ename": "NameError",
     "evalue": "name 'qwwe' is not defined",
     "output_type": "error",
     "traceback": [
      "\u001b[0;31m---------------------------------------------------------------------------\u001b[0m",
      "\u001b[0;31mNameError\u001b[0m                                 Traceback (most recent call last)",
      "Cell \u001b[0;32mIn[9], line 1\u001b[0m\n\u001b[0;32m----> 1\u001b[0m \u001b[38;5;28mtype\u001b[39m(\u001b[43mqwwe\u001b[49m)\n",
      "\u001b[0;31mNameError\u001b[0m: name 'qwwe' is not defined"
     ]
    }
   ],
   "source": [
    "type(qwwe)"
   ]
  },
  {
   "cell_type": "code",
   "execution_count": 10,
   "id": "d76e76d8-beff-44b7-9712-6cd96e4c4633",
   "metadata": {},
   "outputs": [
    {
     "data": {
      "text/plain": [
       "str"
      ]
     },
     "execution_count": 10,
     "metadata": {},
     "output_type": "execute_result"
    }
   ],
   "source": [
    "type('qwee')"
   ]
  },
  {
   "cell_type": "code",
   "execution_count": 12,
   "id": "7b41ab8c-27ec-4837-9d49-77cd8f2a5cd0",
   "metadata": {},
   "outputs": [
    {
     "name": "stdout",
     "output_type": "stream",
     "text": [
      "Abinash\n",
      "A\n"
     ]
    }
   ],
   "source": [
    "name='Abinash'\n",
    "section='A'\n",
    "print(name)\n",
    "print (section)"
   ]
  },
  {
   "cell_type": "code",
   "execution_count": 13,
   "id": "7d279600-2d6b-4013-8bbc-7e3bed555e51",
   "metadata": {},
   "outputs": [
    {
     "name": "stdout",
     "output_type": "stream",
     "text": [
      "Abinash\n",
      "A\n"
     ]
    }
   ],
   "source": [
    "print(name)\n",
    "print(section)"
   ]
  },
  {
   "cell_type": "code",
   "execution_count": null,
   "id": "3d8ebcae-e18c-474d-a16c-d16101bc66aa",
   "metadata": {},
   "outputs": [],
   "source": []
  }
 ],
 "metadata": {
  "kernelspec": {
   "display_name": "Python 3 (ipykernel)",
   "language": "python",
   "name": "python3"
  },
  "language_info": {
   "codemirror_mode": {
    "name": "ipython",
    "version": 3
   },
   "file_extension": ".py",
   "mimetype": "text/x-python",
   "name": "python",
   "nbconvert_exporter": "python",
   "pygments_lexer": "ipython3",
   "version": "3.10.8"
  }
 },
 "nbformat": 4,
 "nbformat_minor": 5
}
